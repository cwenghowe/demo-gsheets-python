{
 "cells": [
  {
   "cell_type": "markdown",
   "metadata": {},
   "source": [
    "## <span style=\"color:orange;\">**A demo for accessing GSheets through Google Sheets API from Python**</span><span style=\"color:pink;\"> (Method 2)</span>\r\n",
    "This requires setting from Google Cloud Platform to obtain the credentials for accessing the <span style=\"color:yellow;\">Google Sheets API</span> and <span style=\"color:yellow;\">Google Drive API</span>\r\n",
    "\r\n",
    "> https://www.youtube.com/watch?v=cnPlKLEGR7E&t=187s"
   ]
  },
  {
   "cell_type": "markdown",
   "metadata": {},
   "source": [
    "### <span style=\"color:orange;\">**Define the important stuffs.**</span>\r\n",
    "Define the scope and load the service accounts using the credential keys."
   ]
  },
  {
   "cell_type": "code",
   "execution_count": 1,
   "metadata": {},
   "outputs": [],
   "source": [
    "import gspread\r\n",
    "from oauth2client.service_account import ServiceAccountCredentials\r\n",
    "SCOPE = [\r\n",
    "    \"https://spreadsheets.google.com/feeds\",\r\n",
    "    \"https://www.googleapis.com/auth/spreadsheets\",\r\n",
    "    \"https://www.googleapis.com/auth/drive.file\",\r\n",
    "    \"https://www.googleapis.com/auth/drive\"\r\n",
    "]\r\n",
    "\r\n",
    "creds = ServiceAccountCredentials.from_json_keyfile_name(\"credkeys.json\", SCOPE)"
   ]
  },
  {
   "cell_type": "markdown",
   "metadata": {},
   "source": [
    "### <span style=\"color:orange;\">**Accessing the google sheets and retrieve data**</span>\r\n",
    "Establish the connection to the drive, and specify the Spreadsheets to connect to and access the worksheet "
   ]
  },
  {
   "cell_type": "code",
   "execution_count": 7,
   "metadata": {},
   "outputs": [
    {
     "name": "stdout",
     "output_type": "stream",
     "text": [
      "[{'No': 1, 'Course': 'A1001', 'Description': 'Demo Course', 'Date': '12-Apr-2021', 'Start Time': '8:00 AM', 'End Time': '5:00 PM'}, {'No': 2, 'Course': 'A1001', 'Description': 'Demo Course', 'Date': '13-Apr-2021', 'Start Time': '8:00 AM', 'End Time': '5:00 PM'}]\n"
     ]
    }
   ],
   "source": [
    "client = gspread.authorize(creds)\r\n",
    "sheet = client.open('Demo-sheets').sheet1\r\n",
    "data = sheet.get_all_records()\r\n",
    "print(data)"
   ]
  },
  {
   "cell_type": "markdown",
   "metadata": {},
   "source": [
    "getting data:\r\n",
    "- by row\r\n",
    "- by column\r\n",
    "- by cell"
   ]
  },
  {
   "cell_type": "code",
   "execution_count": 10,
   "metadata": {},
   "outputs": [
    {
     "name": "stdout",
     "output_type": "stream",
     "text": [
      "['2', 'A1001', 'Demo Course', '13-Apr-2021', '8:00 AM', '5:00 PM']\n",
      "['Description', 'Demo Course', 'Demo Course']\n",
      "Course\n"
     ]
    }
   ],
   "source": [
    "row = sheet.row_values(3)\r\n",
    "print(row)\r\n",
    "\r\n",
    "column = sheet.col_values(3)\r\n",
    "print(column)\r\n",
    "\r\n",
    "cell = sheet.cell(1,2).value\r\n",
    "print(cell)"
   ]
  },
  {
   "cell_type": "markdown",
   "metadata": {},
   "source": [
    "insert data into the row"
   ]
  },
  {
   "cell_type": "code",
   "execution_count": 13,
   "metadata": {},
   "outputs": [
    {
     "data": {
      "text/plain": "{'spreadsheetId': '1daMdy3j4jwHnoKEcIWkA6CT-VZeFHqmC0AxYAKWy6eQ',\n 'updates': {'spreadsheetId': '1daMdy3j4jwHnoKEcIWkA6CT-VZeFHqmC0AxYAKWy6eQ',\n  'updatedRange': 'Demo!A3:C3',\n  'updatedRows': 1,\n  'updatedColumns': 3,\n  'updatedCells': 3}}"
     },
     "execution_count": 13,
     "metadata": {},
     "output_type": "execute_result"
    }
   ],
   "source": [
    "insertRow = [\"hello\",5,\"test\"]\r\n",
    "sheet.insert_row(insertRow, 3)"
   ]
  },
  {
   "cell_type": "markdown",
   "metadata": {},
   "source": []
  },
  {
   "cell_type": "code",
   "execution_count": 14,
   "metadata": {},
   "outputs": [
    {
     "data": {
      "text/plain": "{'spreadsheetId': '1daMdy3j4jwHnoKEcIWkA6CT-VZeFHqmC0AxYAKWy6eQ',\n 'replies': [{}]}"
     },
     "execution_count": 14,
     "metadata": {},
     "output_type": "execute_result"
    }
   ],
   "source": [
    "sheet.delete_rows(3)"
   ]
  },
  {
   "cell_type": "code",
   "execution_count": 16,
   "metadata": {},
   "outputs": [
    {
     "name": "stdout",
     "output_type": "stream",
     "text": [
      "2\n"
     ]
    }
   ],
   "source": [
    "print(len(data))"
   ]
  }
 ],
 "metadata": {
  "kernelspec": {
   "display_name": "Python 3.8.8 64-bit",
   "name": "python388jvsc74a57bd05fc94538383e7d494393704ce24030d1f0d37828d54350b45d59f182fa46c4d1"
  },
  "language_info": {
   "codemirror_mode": {
    "name": "ipython",
    "version": 3
   },
   "file_extension": ".py",
   "mimetype": "text/x-python",
   "name": "python",
   "nbconvert_exporter": "python",
   "pygments_lexer": "ipython3",
   "version": "3.8.8"
  },
  "metadata": {
   "interpreter": {
    "hash": "5fc94538383e7d494393704ce24030d1f0d37828d54350b45d59f182fa46c4d1"
   }
  },
  "orig_nbformat": 2
 },
 "nbformat": 4,
 "nbformat_minor": 2
}