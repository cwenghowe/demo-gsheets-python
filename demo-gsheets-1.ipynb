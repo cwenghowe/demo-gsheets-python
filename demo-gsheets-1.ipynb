{
 "cells": [
  {
   "cell_type": "markdown",
   "metadata": {},
   "source": [
    "## <span style=\"color:orange;\">**A demo for accessing GSheets through Google Sheets API from Python**</span><span style=\"color:pink;\"> (Method 1)</span>\n",
    "This requires setting from Google Cloud Platform to obtain the credentials for accessing the Google Sheets API.\n",
    "\n",
    "> https://www.youtube.com/watch?v=4ssigWmExak&t=928s\n",
    "\n",
    "In python, few packages are required:\n",
    "- `google-api-python-client`\n",
    "- `google-auth-httplib2`\n",
    "- `google-auth-oauthlib`\n"
   ]
  },
  {
   "cell_type": "markdown",
   "metadata": {},
   "source": [
    "### <span style=\"color:orange;\">**Defining the important stuffs**</span>\n",
    "Note: need to ensure following:\n",
    "- Google Sheets API has been enabled.\n",
    "- A service account is established and the credential (JSON) has been downloaded\n",
    "- Create a google sheets file, shared the file to the service account email created just now\n",
    "- Get the google sheets file ID"
   ]
  },
  {
   "cell_type": "code",
   "execution_count": 1,
   "metadata": {},
   "outputs": [],
   "source": [
    "from googleapiclient.discovery import build\n",
    "from google.oauth2 import service_account\n",
    "\n",
    "SCOPES = ['https://www.googleapis.com/auth/spreadsheets']\n",
    "SERVICE_ACCOUNT_FILE = 'credkeys.json'  \n",
    "SPREADSHEET_ID = '1daMdy3j4jwHnoKEcIWkA6CT-VZeFHqmC0AxYAKWy6eQ' #this is the target sheets ID\n",
    "\n",
    "cred = None\n",
    "cred = service_account.Credentials.from_service_account_file(SERVICE_ACCOUNT_FILE, scopes=SCOPES)"
   ]
  },
  {
   "cell_type": "markdown",
   "metadata": {},
   "source": [
    "### <span style=\"color:orange;\">**Reading from the Spreadsheet**</span>\n",
    "The code below reads the data from the google spreadsheets"
   ]
  },
  {
   "cell_type": "code",
   "execution_count": 2,
   "metadata": {},
   "outputs": [
    {
     "name": "stdout",
     "output_type": "stream",
     "text": [
      "[['No', 'Course', 'Description', 'Date', 'Start Time', 'End Time'], ['1', 'A1001', 'Demo Course', '12-Apr-2021', '8:00 AM', '5:00 PM'], ['2', 'A1001', 'Demo Course', '13-Apr-2021', '8:00 AM', '5:00 PM']]\n"
     ]
    }
   ],
   "source": [
    "service = build('sheets','v4',credentials=cred)\n",
    "\n",
    "# Call the Sheets API\n",
    "sheet = service.spreadsheets()\n",
    "result = sheet.values().get(spreadsheetId=SPREADSHEET_ID, range=\"Demo!A1:F3\").execute()\n",
    "\n",
    "values = result.get('values',[])\n",
    "print(values)"
   ]
  },
  {
   "cell_type": "markdown",
   "metadata": {},
   "source": [
    "### <span style=\"color:orange;\">**Writing to the Spreadsheet**</span>\n",
    "The code below writes the data into the google spreadsheets"
   ]
  },
  {
   "cell_type": "code",
   "execution_count": 3,
   "metadata": {},
   "outputs": [
    {
     "name": "stdout",
     "output_type": "stream",
     "text": [
      "{'spreadsheetId': '1daMdy3j4jwHnoKEcIWkA6CT-VZeFHqmC0AxYAKWy6eQ', 'updatedRange': \"'Demo-write'!A1:B4\", 'updatedRows': 4, 'updatedColumns': 2, 'updatedCells': 8}\n"
     ]
    }
   ],
   "source": [
    "aoa = [[\"1/1/2021\", 5000],[\"1/2/2021\", 4010],[\"1/3/2021\", 3000],[\"1/4/2021\", 1000]]\n",
    "\n",
    "request = sheet.values().update(spreadsheetId=SPREADSHEET_ID, range=\"Demo-write!A1\", valueInputOption=\"USER_ENTERED\", body={\"values\":aoa}).execute()\n",
    "\n",
    "print(request)"
   ]
  }
 ],
 "metadata": {
  "kernelspec": {
   "display_name": "Python 3.8.8 64-bit",
   "name": "python388jvsc74a57bd05fc94538383e7d494393704ce24030d1f0d37828d54350b45d59f182fa46c4d1"
  },
  "language_info": {
   "codemirror_mode": {
    "name": "ipython",
    "version": 3
   },
   "file_extension": ".py",
   "mimetype": "text/x-python",
   "name": "python",
   "nbconvert_exporter": "python",
   "pygments_lexer": "ipython3",
   "version": "3.8.8"
  },
  "metadata": {
   "interpreter": {
    "hash": "5fc94538383e7d494393704ce24030d1f0d37828d54350b45d59f182fa46c4d1"
   }
  }
 },
 "nbformat": 4,
 "nbformat_minor": 2
}